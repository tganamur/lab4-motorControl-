{
 "cells": [
  {
   "cell_type": "code",
   "execution_count": 1,
   "metadata": {},
   "outputs": [
    {
     "ename": "ModuleNotFoundError",
     "evalue": "No module named 'matplotlib'",
     "output_type": "error",
     "traceback": [
      "\u001b[1;31m---------------------------------------------------------------------------\u001b[0m",
      "\u001b[1;31mModuleNotFoundError\u001b[0m                       Traceback (most recent call last)",
      "Cell \u001b[1;32mIn [1], line 3\u001b[0m\n\u001b[0;32m      1\u001b[0m \u001b[39m# importing libraries\u001b[39;00m\n\u001b[0;32m      2\u001b[0m \u001b[39mfrom\u001b[39;00m \u001b[39mtime\u001b[39;00m \u001b[39mimport\u001b[39;00m time\n\u001b[1;32m----> 3\u001b[0m \u001b[39mfrom\u001b[39;00m \u001b[39mmatplotlib\u001b[39;00m\u001b[39m.\u001b[39;00m\u001b[39mscale\u001b[39;00m \u001b[39mimport\u001b[39;00m LogScale\n\u001b[0;32m      4\u001b[0m \u001b[39mimport\u001b[39;00m \u001b[39mpandas\u001b[39;00m \u001b[39mas\u001b[39;00m \u001b[39mpd\u001b[39;00m \n\u001b[0;32m      5\u001b[0m \u001b[39mimport\u001b[39;00m \u001b[39mmatplotlib\u001b[39;00m\u001b[39m.\u001b[39;00m\u001b[39mpyplot\u001b[39;00m \u001b[39mas\u001b[39;00m \u001b[39mplt\u001b[39;00m\n",
      "\u001b[1;31mModuleNotFoundError\u001b[0m: No module named 'matplotlib'"
     ]
    }
   ],
   "source": [
    "# importing libraries\n",
    "from time import time\n",
    "from matplotlib.scale import LogScale\n",
    "import pandas as pd \n",
    "import matplotlib.pyplot as plt\n",
    "import math\n",
    "import serial"
   ]
  },
  {
   "cell_type": "markdown",
   "metadata": {},
   "source": [
    "#Monitor Serial for UART Output"
   ]
  },
  {
   "cell_type": "code",
   "execution_count": null,
   "metadata": {},
   "outputs": [
    {
     "ename": "IndexError",
     "evalue": "list assignment index out of range",
     "output_type": "error",
     "traceback": [
      "\u001b[1;31m---------------------------------------------------------------------------\u001b[0m",
      "\u001b[1;31mIndexError\u001b[0m                                Traceback (most recent call last)",
      "Cell \u001b[1;32mIn [2], line 52\u001b[0m\n\u001b[0;32m     50\u001b[0m     positions_SR[\u001b[39mint\u001b[39m\u001b[39m.\u001b[39mfrom_bytes(i,\u001b[39m'\u001b[39m\u001b[39mbig\u001b[39m\u001b[39m'\u001b[39m)\u001b[39m/\u001b[39m\u001b[39m2\u001b[39m \u001b[39m+\u001b[39m \u001b[39m.5\u001b[39m] \u001b[39m=\u001b[39m storage_SR[\u001b[39mint\u001b[39m\u001b[39m.\u001b[39mfrom_bytes(i,\u001b[39m'\u001b[39m\u001b[39mbig\u001b[39m\u001b[39m'\u001b[39m)]\n\u001b[0;32m     51\u001b[0m \u001b[39melif\u001b[39;00m \u001b[39mint\u001b[39m\u001b[39m.\u001b[39mfrom_bytes(i,\u001b[39m'\u001b[39m\u001b[39mbig\u001b[39m\u001b[39m'\u001b[39m) \u001b[39m%\u001b[39m \u001b[39m2\u001b[39m \u001b[39m==\u001b[39m \u001b[39m0\u001b[39m:\n\u001b[1;32m---> 52\u001b[0m     velocities_SR[\u001b[39mint\u001b[39;49m(\u001b[39mint\u001b[39;49m\u001b[39m.\u001b[39;49mfrom_bytes(i,\u001b[39m'\u001b[39;49m\u001b[39mbig\u001b[39;49m\u001b[39m'\u001b[39;49m)\u001b[39m/\u001b[39;49m\u001b[39m2\u001b[39;49m)] \u001b[39m=\u001b[39m storage_SR[\u001b[39mint\u001b[39m\u001b[39m.\u001b[39mfrom_bytes(i,\u001b[39m'\u001b[39m\u001b[39mbig\u001b[39m\u001b[39m'\u001b[39m)]\n\u001b[0;32m     54\u001b[0m \u001b[39m# Plot of pos vs time\u001b[39;00m\n\u001b[0;32m     55\u001b[0m plt\u001b[39m.\u001b[39mfigure()\n",
      "\u001b[1;31mIndexError\u001b[0m: list assignment index out of range"
     ]
    }
   ],
   "source": [
    "from os import times_result\n",
    "\n",
    "ser = serial.Serial(port='COM11', baudrate=115200,timeout = .02,parity = serial.PARITY_EVEN,rtscts = 1)\n",
    "ser.close()\n",
    "temp = list()\n",
    "storage_SR = list()\n",
    "storage_LONG = list()\n",
    "isLONG = bool()\n",
    "\n",
    "try:\n",
    "    ser.open()\n",
    "    try:\n",
    "        while True:\n",
    "            #read serial\n",
    "            temp = ser.readline()\n",
    "\n",
    "            #check if the line is the identifier string and set flags accordingly\n",
    "            if temp == 'NEWMEAS_SR':\n",
    "                storage_SR.clear()\n",
    "                isLONG = 0\n",
    "            elif temp == 'NEWMEAS_LONG':\n",
    "                storage_LONG.clear()\n",
    "                isLONG = 1\n",
    "            elif temp == '':\n",
    "                pass\n",
    "            elif isLONG:\n",
    "                storage_LONG.append(temp)\n",
    "            elif not isLONG:\n",
    "                storage_SR.append(temp)\n",
    "                \n",
    "            # create position and velocity lists \n",
    "            positions_SR = [0]*int(len(storage_SR)/2)\n",
    "            velocities_SR =  [0]*int(len(storage_SR)/2)\n",
    "            positions_LONG = [0]*int(len(storage_LONG)/2)\n",
    "            velocities_LONG = [0]*int(len(storage_LONG)/2)\n",
    "            \n",
    "            # create time lists\n",
    "            times_SR = [0]*int(len(storage_SR)/2)\n",
    "            times_LONG = [0]*int(len(storage_LONG)/2)\n",
    "            for i in positions_SR:\n",
    "                times_SR[i] = .005*i\n",
    "            for i in positions_LONG:\n",
    "                times_LONG[i] = .005*i\n",
    "\n",
    "            # create plots for step response plot\n",
    "            if not isLONG:\n",
    "                for i in storage_SR:\n",
    "                    #sort the list into positions and velocities\n",
    "                    if int.from_bytes(i,'big') % 2 == 1:\n",
    "                        positions_SR[int.from_bytes(i,'big')/2 + .5] = storage_SR[int.from_bytes(i,'big')]\n",
    "                    elif int.from_bytes(i,'big') % 2 == 0:\n",
    "                        velocities_SR[int(int.from_bytes(i,'big')/2)] = storage_SR[int.from_bytes(i,'big')]\n",
    "\n",
    "                    # Plot of pos vs time\n",
    "                    plt.figure()\n",
    "                    plt.plot(times_SR, positions_SR)\n",
    "                    plt.xlabel('Time (s)')\n",
    "                    plt.ylabel('Motor Position (rad)')\n",
    "                    plt.title('Motor Position vs Time, Step Response')\n",
    "                    plt.grid()\n",
    "\n",
    "                    # Plot of vel vs time\n",
    "                    plt.figure()\n",
    "                    plt.plot(times_SR,velocities_SR)\n",
    "                    plt.xlabel('Time (s)')\n",
    "                    plt.ylabel('Velocity (rad/s)')\n",
    "                    plt.title('Motor Velocity vs Time, Step Response')\n",
    "                    plt.grid()\n",
    "                \n",
    "            if isLONG:\n",
    "                for i in storage_SR:\n",
    "                    #sort the list into positions and velocities\n",
    "                    if int.from_bytes(i,'big') % 2 == 1:\n",
    "                        positions_SR[int.from_bytes(i,'big')/2 + .5] = storage_SR(int.from_bytes(i,'big'))\n",
    "                    else:\n",
    "                        velocities_SR[int.from_bytes(i,'big')/2-1] = storage_SR(int.from_bytes(i,'big'))\n",
    "\n",
    "                    # Plot of pos vs time\n",
    "                    plt.figure()\n",
    "                    plt.plot(times_LONG, positions_LONG)\n",
    "                    plt.xlabel('Time (s)')\n",
    "                    plt.ylabel('Motor Position (rad)')\n",
    "                    plt.title('Motor Position vs Time, 30s Sample')\n",
    "                    plt.grid()\n",
    "\n",
    "                    # Plot of vel vs time\n",
    "                    plt.figure()\n",
    "                    plt.plot(times_LONG,velocities_LONG)\n",
    "                    plt.xlabel('Time (s)')\n",
    "                    plt.ylabel('Velocity (rad/s)')\n",
    "                    plt.title('Motor Velocity vs Time, 30s Sample')\n",
    "                    plt.grid()\n",
    "    except:\n",
    "        print('error in inner loop')\n",
    "except:\n",
    "    print('error in outer loop')"
   ]
  }
 ],
 "metadata": {
  "kernelspec": {
   "display_name": "Python 3.10.7 ('venv': venv)",
   "language": "python",
   "name": "python3"
  },
  "language_info": {
   "codemirror_mode": {
    "name": "ipython",
    "version": 3
   },
   "file_extension": ".py",
   "mimetype": "text/x-python",
   "name": "python",
   "nbconvert_exporter": "python",
   "pygments_lexer": "ipython3",
   "version": "3.10.7"
  },
  "orig_nbformat": 4,
  "vscode": {
   "interpreter": {
    "hash": "80b090ef46c488411648353da1d5010f0f2048461c947e8c700d7ed906f06548"
   }
  }
 },
 "nbformat": 4,
 "nbformat_minor": 2
}
