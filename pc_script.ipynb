{
 "cells": [
  {
   "cell_type": "code",
   "execution_count": 4,
   "metadata": {},
   "outputs": [
    {
     "ename": "UnicodeDecodeError",
     "evalue": "'utf-8' codec can't decode byte 0x92 in position 3: invalid start byte",
     "output_type": "error",
     "traceback": [
      "\u001b[1;31m---------------------------------------------------------------------------\u001b[0m",
      "\u001b[1;31mSerialException\u001b[0m                           Traceback (most recent call last)",
      "Cell \u001b[1;32mIn [4], line 17\u001b[0m\n\u001b[0;32m     16\u001b[0m \u001b[39mtry\u001b[39;00m: \n\u001b[1;32m---> 17\u001b[0m     ser\u001b[39m.\u001b[39;49mopen()\n\u001b[0;32m     18\u001b[0m \u001b[39mexcept\u001b[39;00m: \n",
      "File \u001b[1;32m~\\AppData\\Local\\Packages\\PythonSoftwareFoundation.Python.3.10_qbz5n2kfra8p0\\LocalCache\\local-packages\\Python310\\site-packages\\serial\\serialwin32.py:43\u001b[0m, in \u001b[0;36mSerial.open\u001b[1;34m(self)\u001b[0m\n\u001b[0;32m     42\u001b[0m \u001b[39mif\u001b[39;00m \u001b[39mself\u001b[39m\u001b[39m.\u001b[39mis_open:\n\u001b[1;32m---> 43\u001b[0m     \u001b[39mraise\u001b[39;00m SerialException(\u001b[39m\"\u001b[39m\u001b[39mPort is already open.\u001b[39m\u001b[39m\"\u001b[39m)\n\u001b[0;32m     44\u001b[0m \u001b[39m# the \"\\\\.\\COMx\" format is required for devices other than COM1-COM8\u001b[39;00m\n\u001b[0;32m     45\u001b[0m \u001b[39m# not all versions of windows seem to support this properly\u001b[39;00m\n\u001b[0;32m     46\u001b[0m \u001b[39m# so that the first few ports are used with the DOS device name\u001b[39;00m\n",
      "\u001b[1;31mSerialException\u001b[0m: Port is already open.",
      "\nDuring handling of the above exception, another exception occurred:\n",
      "\u001b[1;31mUnicodeDecodeError\u001b[0m                        Traceback (most recent call last)",
      "Cell \u001b[1;32mIn [4], line 23\u001b[0m\n\u001b[0;32m     21\u001b[0m buf \u001b[39m=\u001b[39m ser\u001b[39m.\u001b[39mreadline()\n\u001b[0;32m     22\u001b[0m \u001b[39mif\u001b[39;00m buf \u001b[39m!=\u001b[39m \u001b[39mb\u001b[39m\u001b[39m'\u001b[39m\u001b[39m'\u001b[39m \u001b[39mand\u001b[39;00m \u001b[39mlen\u001b[39m(pos) \u001b[39m<\u001b[39m \u001b[39m400\u001b[39m:\n\u001b[1;32m---> 23\u001b[0m     new_list \u001b[39m=\u001b[39m buf\u001b[39m.\u001b[39;49mdecode()\n\u001b[0;32m     24\u001b[0m     \u001b[39mprint\u001b[39m(buf)\n\u001b[0;32m     25\u001b[0m     pos\u001b[39m.\u001b[39mappend(new_list[\u001b[39m0\u001b[39m])\n",
      "\u001b[1;31mUnicodeDecodeError\u001b[0m: 'utf-8' codec can't decode byte 0x92 in position 3: invalid start byte"
     ]
    }
   ],
   "source": [
    "from time import time\n",
    "from matplotlib.scale import LogScale\n",
    "import pandas as pd \n",
    "import matplotlib.pyplot as plt\n",
    "import math\n",
    "import serial\n",
    "import numpy as np \n",
    "\n",
    "\n",
    "ser = serial.Serial('COM11', 115200, timeout = 0.018, parity = serial.PARITY_EVEN, rtscts = 1)\n",
    "\n",
    "#step response data collection\n",
    "vel = []\n",
    "pos = []\n",
    "\n",
    "try: \n",
    "    ser.open()\n",
    "except: \n",
    "    while(True):\n",
    "        try:\n",
    "            buf = ser.readline()\n",
    "            if buf != b'' and len(pos) < 400:\n",
    "                new_list = buf.decode()\n",
    "                print(buf)\n",
    "                pos.append(new_list[0])\n",
    "                vel.append(new_list[1])\n",
    "            elif len(pos) >= 400:\n",
    "                print('Pos', pos)\n",
    "                print('Velocity', vel)\n",
    "                ser.close()\n",
    "                break\n",
    "        except KeyboardInterrupt:\n",
    "            ser.close()\n",
    "            break\n",
    "\n",
    "tout = list(range(0, len(pos)))\n",
    "\n",
    "plt.plot(tout, vel)\n",
    "plt.ylabel('Velocity (rad/s)')\n",
    "plt.xlabel('Time')\n",
    "plt.title('Velocity vs Time')"
   ]
  }
 ],
 "metadata": {
  "kernelspec": {
   "display_name": "Python 3.10.7 ('venv': venv)",
   "language": "python",
   "name": "python3"
  },
  "language_info": {
   "codemirror_mode": {
    "name": "ipython",
    "version": 3
   },
   "file_extension": ".py",
   "mimetype": "text/x-python",
   "name": "python",
   "nbconvert_exporter": "python",
   "pygments_lexer": "ipython3",
   "version": "3.10.7"
  },
  "orig_nbformat": 4,
  "vscode": {
   "interpreter": {
    "hash": "80b090ef46c488411648353da1d5010f0f2048461c947e8c700d7ed906f06548"
   }
  }
 },
 "nbformat": 4,
 "nbformat_minor": 2
}
